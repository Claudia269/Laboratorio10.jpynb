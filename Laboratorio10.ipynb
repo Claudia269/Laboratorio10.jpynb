{
  "nbformat": 4,
  "nbformat_minor": 0,
  "metadata": {
    "colab": {
      "provenance": []
    },
    "kernelspec": {
      "name": "python3",
      "display_name": "Python 3"
    },
    "language_info": {
      "name": "python"
    }
  },
  "cells": [
    {
      "cell_type": "markdown",
      "source": [
        " PARTE 1 EJERCICIO 1"
      ],
      "metadata": {
        "id": "hVTupW7cZZiG"
      }
    },
    {
      "cell_type": "code",
      "source": [
        "# Importamos librerias\n",
        "import pandas as pd\n",
        "import matplotlib.pyplot as plt\n",
        "import seaborn as sns\n"
      ],
      "metadata": {
        "id": "IGT8gA76uR15"
      },
      "execution_count": 1,
      "outputs": []
    },
    {
      "cell_type": "code",
      "source": [
        "#Defino los tipos de datos para cada columna\n",
        "tipos_datos = {\n",
        "    \"Nombre\": \"string\",        # Tipo de dato cadena\n",
        "    \"Edad\": \"Int64\",           # Tipo de dato entero, permite nulos con \"Int64\" en vez de \"int\"\n",
        "    \"Fecha Ingreso\": \"string\",  # Tipo de dato cadena, para convertirla a datetime después si es necesario\n",
        "    \"Resultado Prueba\": \"string\" # Tipo de dato cadena\n",
        "}\n"
      ],
      "metadata": {
        "id": "7TCGRfPbZ1kt"
      },
      "execution_count": 2,
      "outputs": []
    },
    {
      "cell_type": "code",
      "source": [
        "# Se crea mi diccionario de datos\n",
        "datos = { 'Nombre':['Carlos', 'Ana', 'Luis', 'Pedro', 'Maria', None],\n",
        "          'Edad':[34, 29, None, 45, 25, 33 ],\n",
        "          'Fecha Ingreso':['2021-01-15', '2020/03/12', '2022-07-01', '2021/12/01', '2021-05-20', '2020-03-12'],\n",
        "          'Resultado Prueba': ['Positivo' ,'Negativo', 'Positivo', 'Positivo', 'Negativo', 'Negativo']\n",
        "}"
      ],
      "metadata": {
        "id": "VB-LfeUla0kX"
      },
      "execution_count": 3,
      "outputs": []
    },
    {
      "cell_type": "code",
      "source": [
        "# Creación del dataframe llamado df\n",
        "df = pd.DataFrame(datos)\n",
        "\n",
        "# Asignamos los tipos a mi nuevo dataframe df_pacientes\n",
        "df_pacientes = df.astype(tipos_datos)\n"
      ],
      "metadata": {
        "id": "oOUn6lnncuAh"
      },
      "execution_count": 4,
      "outputs": []
    },
    {
      "cell_type": "code",
      "source": [
        "# Imprimo mi dataframe y sus respectivos tipos\n",
        "print(df_pacientes)\n",
        "print(\"\\n\",df_pacientes.dtypes)"
      ],
      "metadata": {
        "colab": {
          "base_uri": "https://localhost:8080/"
        },
        "id": "-iJf3a2wecLR",
        "outputId": "2e4c269b-3b58-4f70-c9ab-35194d6a1ad3"
      },
      "execution_count": 5,
      "outputs": [
        {
          "output_type": "stream",
          "name": "stdout",
          "text": [
            "   Nombre  Edad Fecha Ingreso Resultado Prueba\n",
            "0  Carlos    34    2021-01-15         Positivo\n",
            "1     Ana    29    2020/03/12         Negativo\n",
            "2    Luis  <NA>    2022-07-01         Positivo\n",
            "3   Pedro    45    2021/12/01         Positivo\n",
            "4   Maria    25    2021-05-20         Negativo\n",
            "5    <NA>    33    2020-03-12         Negativo\n",
            "\n",
            " Nombre              string[python]\n",
            "Edad                         Int64\n",
            "Fecha Ingreso       string[python]\n",
            "Resultado Prueba    string[python]\n",
            "dtype: object\n"
          ]
        }
      ]
    },
    {
      "cell_type": "code",
      "source": [
        "# Visualizar valores faltantes en cada columna\n",
        "sns.heatmap(df_pacientes.isnull(), cbar=False, cmap='viridis')\n",
        "plt.title('Mapa de valores faltantes (sin limpiar)')\n",
        "plt.show()"
      ],
      "metadata": {
        "colab": {
          "base_uri": "https://localhost:8080/",
          "height": 452
        },
        "id": "s1tU8pB4uYkk",
        "outputId": "e6f109e4-e272-4032-e797-6d2b8587b6ef"
      },
      "execution_count": 6,
      "outputs": [
        {
          "output_type": "display_data",
          "data": {
            "text/plain": [
              "<Figure size 640x480 with 1 Axes>"
            ],
            "image/png": "[encoded data removed]"
          },
          "metadata": {}
        }
      ]
    },
    {
      "cell_type": "code",
      "source": [
        "# Reemplazar las barras (/) por guiones (-) en la columna 'Fecha Ingreso'\n",
        "df_pacientes['Fecha Ingreso'] = df_pacientes['Fecha Ingreso'].str.replace('/', '-', regex=False)\n",
        "\n",
        "# Imprimir el DataFrame para verificar el cambio\n",
        "print(df_pacientes)\n"
      ],
      "metadata": {
        "colab": {
          "base_uri": "https://localhost:8080/"
        },
        "id": "HwlaTaqAfCf_",
        "outputId": "235be90a-a240-405d-d062-a04e5b3d6659"
      },
      "execution_count": 7,
      "outputs": [
        {
          "output_type": "stream",
          "name": "stdout",
          "text": [
            "   Nombre  Edad Fecha Ingreso Resultado Prueba\n",
            "0  Carlos    34    2021-01-15         Positivo\n",
            "1     Ana    29    2020-03-12         Negativo\n",
            "2    Luis  <NA>    2022-07-01         Positivo\n",
            "3   Pedro    45    2021-12-01         Positivo\n",
            "4   Maria    25    2021-05-20         Negativo\n",
            "5    <NA>    33    2020-03-12         Negativo\n"
          ]
        }
      ]
    },
    {
      "cell_type": "code",
      "source": [
        "# Convertir la columna 'Fecha Ingreso' a tipo datetime\n",
        "df_pacientes['Fecha Ingreso'] = pd.to_datetime(df_pacientes['Fecha Ingreso'], errors='coerce')\n",
        "print(df_pacientes)"
      ],
      "metadata": {
        "colab": {
          "base_uri": "https://localhost:8080/"
        },
        "id": "8rDie0PylUde",
        "outputId": "74d34670-5093-4865-e6e5-fab400e3dd00"
      },
      "execution_count": 8,
      "outputs": [
        {
          "output_type": "stream",
          "name": "stdout",
          "text": [
            "   Nombre  Edad Fecha Ingreso Resultado Prueba\n",
            "0  Carlos    34    2021-01-15         Positivo\n",
            "1     Ana    29    2020-03-12         Negativo\n",
            "2    Luis  <NA>    2022-07-01         Positivo\n",
            "3   Pedro    45    2021-12-01         Positivo\n",
            "4   Maria    25    2021-05-20         Negativo\n",
            "5    <NA>    33    2020-03-12         Negativo\n"
          ]
        }
      ]
    },
    {
      "cell_type": "code",
      "source": [
        "# Eliminar filas donde el valor en la columna 'Nombre' es None\n",
        "df_pacientes = df_pacientes[df_pacientes['Nombre'].notna()]\n",
        "\n",
        "# Verificar el DataFrame después de eliminar los registros\n",
        "print(df_pacientes)\n"
      ],
      "metadata": {
        "colab": {
          "base_uri": "https://localhost:8080/"
        },
        "id": "ZfSO3rdetqTk",
        "outputId": "1e63e28e-a365-465e-bbb4-db46b6196573"
      },
      "execution_count": 9,
      "outputs": [
        {
          "output_type": "stream",
          "name": "stdout",
          "text": [
            "   Nombre  Edad Fecha Ingreso Resultado Prueba\n",
            "0  Carlos    34    2021-01-15         Positivo\n",
            "1     Ana    29    2020-03-12         Negativo\n",
            "2    Luis  <NA>    2022-07-01         Positivo\n",
            "3   Pedro    45    2021-12-01         Positivo\n",
            "4   Maria    25    2021-05-20         Negativo\n"
          ]
        }
      ]
    },
    {
      "cell_type": "code",
      "source": [
        "## 1. Columna Edad: Rellenar con la mediana\n",
        "# Calcular la mediana de 'Edad' y redondearla a entero\n",
        "mediana_edad = int(df_pacientes['Edad'].median())\n",
        "\n",
        "# Rellenar los valores nulos en 'Edad' con la mediana redondeada\n",
        "df_pacientes['Edad'].fillna(mediana_edad, inplace=True)\n",
        "\n",
        "# Verificar el DataFrame después de la operación\n",
        "print(df_pacientes)\n"
      ],
      "metadata": {
        "colab": {
          "base_uri": "https://localhost:8080/"
        },
        "id": "7LT60X0RwRrP",
        "outputId": "a9aaf875-e8cb-4a63-8c72-35489fb184e6"
      },
      "execution_count": 10,
      "outputs": [
        {
          "output_type": "stream",
          "name": "stdout",
          "text": [
            "   Nombre  Edad Fecha Ingreso Resultado Prueba\n",
            "0  Carlos    34    2021-01-15         Positivo\n",
            "1     Ana    29    2020-03-12         Negativo\n",
            "2    Luis    31    2022-07-01         Positivo\n",
            "3   Pedro    45    2021-12-01         Positivo\n",
            "4   Maria    25    2021-05-20         Negativo\n"
          ]
        },
        {
          "output_type": "stream",
          "name": "stderr",
          "text": [
            "<ipython-input-10-a09fc6b92024>:6: FutureWarning: A value is trying to be set on a copy of a DataFrame or Series through chained assignment using an inplace method.\n",
            "The behavior will change in pandas 3.0. This inplace method will never work because the intermediate object on which we are setting values always behaves as a copy.\n",
            "\n",
            "For example, when doing 'df[col].method(value, inplace=True)', try using 'df.method({col: value}, inplace=True)' or df[col] = df[col].method(value) instead, to perform the operation inplace on the original object.\n",
            "\n",
            "\n",
            "  df_pacientes['Edad'].fillna(mediana_edad, inplace=True)\n"
          ]
        }
      ]
    },
    {
      "cell_type": "markdown",
      "source": [
        "EJERCICIO 2"
      ],
      "metadata": {
        "id": "Y4v3Emxl0KJo"
      }
    },
    {
      "cell_type": "code",
      "source": [
        "#Defino los tipos de datos para cada columna\n",
        "tipos_datos1 = {\n",
        "     \"Cliente ID\": \"Int64\",       # Tipo dato entero, no permite nulos\n",
        "     \"Producto\": \"string\",        # Tipo de dato cadena\n",
        "     \"Cantidad\": \"Int64\",         # Tipo de dato entero, permite nulos con \"Int64\" en vez de \"int\"\n",
        "     \"Precio\": \"string\",         # Tipo de dato string, para que me deje agregar el $ y cuatrocientos y hacer el proceso de limpieza\n",
        "     \"Fecha Transaccion\": \"string\",    # Tipo de dato cadena, para convertirla a datetime después si es necesario\n",
        "    }"
      ],
      "metadata": {
        "id": "jI7Vr4Su0NoN"
      },
      "execution_count": 11,
      "outputs": []
    },
    {
      "cell_type": "code",
      "source": [
        "# Se crea mi diccionario de datos\n",
        "clientes = { 'Cliente ID':[1, 2, 3, 4, 5],\n",
        "          'Producto':['A', 'B', 'C', 'D', 'E'],\n",
        "          'Cantidad' :[10, 20, None, 5, 15],\n",
        "          'Precio' :[100, '200$', 300, 'cuatrocientos', 500],\n",
        "          'Fecha Transaccion':['2023-01-15', '2023/02/20', '2023-03-25', '2023/04/30', '2023-05-10'],\n",
        "          }"
      ],
      "metadata": {
        "id": "_oo2lgBu1bAl"
      },
      "execution_count": 12,
      "outputs": []
    },
    {
      "cell_type": "code",
      "source": [
        "# Creación del dataframe llamado df\n",
        "df1 = pd.DataFrame(clientes)\n",
        "\n",
        "# Asignamos los tipos a mi nuevo dataframe df_pacientes\n",
        "df_clientes = df1.astype(tipos_datos1)\n"
      ],
      "metadata": {
        "id": "30mYMT65xfkq"
      },
      "execution_count": 13,
      "outputs": []
    },
    {
      "cell_type": "code",
      "source": [
        "# Imprimo mi dataframe y sus respectivos tipos\n",
        "print(df_clientes)\n",
        "print(\"\\n\",df_clientes.dtypes)"
      ],
      "metadata": {
        "colab": {
          "base_uri": "https://localhost:8080/"
        },
        "id": "YFaRwccy0Y_H",
        "outputId": "de3e64c8-5883-4ca5-a989-ab7eb0f662c9"
      },
      "execution_count": 14,
      "outputs": [
        {
          "output_type": "stream",
          "name": "stdout",
          "text": [
            "   Cliente ID Producto  Cantidad         Precio Fecha Transaccion\n",
            "0           1        A        10            100        2023-01-15\n",
            "1           2        B        20           200$        2023/02/20\n",
            "2           3        C      <NA>            300        2023-03-25\n",
            "3           4        D         5  cuatrocientos        2023/04/30\n",
            "4           5        E        15            500        2023-05-10\n",
            "\n",
            " Cliente ID                    Int64\n",
            "Producto             string[python]\n",
            "Cantidad                      Int64\n",
            "Precio               string[python]\n",
            "Fecha Transaccion    string[python]\n",
            "dtype: object\n"
          ]
        }
      ]
    },
    {
      "cell_type": "code",
      "source": [
        "# Visualizar valores faltantes en cada columna\n",
        "sns.heatmap(df_clientes.isnull(), cbar=False, cmap='viridis')\n",
        "plt.title('Mapa de valores faltantes (sin limpiar)')\n",
        "plt.show()"
      ],
      "metadata": {
        "colab": {
          "base_uri": "https://localhost:8080/",
          "height": 452
        },
        "id": "7k9pNBOo0wFp",
        "outputId": "d8ec9af2-04e9-4dd1-a043-84c14acbd593"
      },
      "execution_count": 15,
      "outputs": [
        {
          "output_type": "display_data",
          "data": {
            "text/plain": [
              "<Figure size 640x480 with 1 Axes>"
            ],
            "image/png": "[encoded data removed]"
          },
          "metadata": {}
        }
      ]
    },
    {
      "cell_type": "code",
      "source": [
        "## 1. Columna Cantidad: Rellenar con la mediana\n",
        "# Calcular la mediana de 'Cantidad' y redondearla a entero\n",
        "mediana_cantidad = int(df_clientes['Cantidad'].median())\n",
        "\n",
        "# Rellenar los valores nulos en 'Edad' con la mediana redondeada\n",
        "df_clientes['Cantidad'].fillna(mediana_cantidad, inplace=True)\n",
        "\n",
        "# Verificar el DataFrame después de la operación\n",
        "print(df_clientes)"
      ],
      "metadata": {
        "colab": {
          "base_uri": "https://localhost:8080/"
        },
        "id": "74NQOyHx23-s",
        "outputId": "ffd23ed3-e723-49b7-ba12-0acb85a6304a"
      },
      "execution_count": 16,
      "outputs": [
        {
          "output_type": "stream",
          "name": "stdout",
          "text": [
            "   Cliente ID Producto  Cantidad         Precio Fecha Transaccion\n",
            "0           1        A        10            100        2023-01-15\n",
            "1           2        B        20           200$        2023/02/20\n",
            "2           3        C        12            300        2023-03-25\n",
            "3           4        D         5  cuatrocientos        2023/04/30\n",
            "4           5        E        15            500        2023-05-10\n"
          ]
        },
        {
          "output_type": "stream",
          "name": "stderr",
          "text": [
            "<ipython-input-16-0bf9ff2ee873>:6: FutureWarning: A value is trying to be set on a copy of a DataFrame or Series through chained assignment using an inplace method.\n",
            "The behavior will change in pandas 3.0. This inplace method will never work because the intermediate object on which we are setting values always behaves as a copy.\n",
            "\n",
            "For example, when doing 'df[col].method(value, inplace=True)', try using 'df.method({col: value}, inplace=True)' or df[col] = df[col].method(value) instead, to perform the operation inplace on the original object.\n",
            "\n",
            "\n",
            "  df_clientes['Cantidad'].fillna(mediana_cantidad, inplace=True)\n"
          ]
        }
      ]
    },
    {
      "cell_type": "code",
      "source": [
        "# Limpieza de la columna \"Precio\"\n",
        "df_clientes['Precio'] = pd.to_numeric(\n",
        "    df_clientes['Precio'].str.replace(r'[$]', '', regex=True),  # Elimina el símbolo $\n",
        "    errors='coerce'  # Reemplaza valores no convertibles con NaN\n",
        ")\n",
        "\n",
        "# Revisión del DataFrame\n",
        "print(df_clientes)\n"
      ],
      "metadata": {
        "colab": {
          "base_uri": "https://localhost:8080/"
        },
        "id": "_Crp7PVL4PRa",
        "outputId": "b3dfa055-93b8-43ad-a5a7-ebff144cbe5b"
      },
      "execution_count": 17,
      "outputs": [
        {
          "output_type": "stream",
          "name": "stdout",
          "text": [
            "   Cliente ID Producto  Cantidad  Precio Fecha Transaccion\n",
            "0           1        A        10     100        2023-01-15\n",
            "1           2        B        20     200        2023/02/20\n",
            "2           3        C        12     300        2023-03-25\n",
            "3           4        D         5    <NA>        2023/04/30\n",
            "4           5        E        15     500        2023-05-10\n"
          ]
        }
      ]
    },
    {
      "cell_type": "code",
      "source": [
        "# Rellenar el campo faltante en precio con la media\n",
        "df_clientes['Precio'] = df_clientes['Precio'].fillna(df_clientes['Precio'].mean())\n",
        "\n",
        "# Revisión del DataFrame\n",
        "print(df_clientes)\n"
      ],
      "metadata": {
        "colab": {
          "base_uri": "https://localhost:8080/"
        },
        "id": "Q9aZxbP15eRE",
        "outputId": "5046337b-b607-4746-c0ca-916c25b35f80"
      },
      "execution_count": 18,
      "outputs": [
        {
          "output_type": "stream",
          "name": "stdout",
          "text": [
            "   Cliente ID Producto  Cantidad  Precio Fecha Transaccion\n",
            "0           1        A        10     100        2023-01-15\n",
            "1           2        B        20     200        2023/02/20\n",
            "2           3        C        12     300        2023-03-25\n",
            "3           4        D         5     275        2023/04/30\n",
            "4           5        E        15     500        2023-05-10\n"
          ]
        }
      ]
    },
    {
      "cell_type": "code",
      "source": [
        "# Reemplazar las barras (/) por guiones (-) en la columna 'Fecha Ingreso'\n",
        "df_clientes['Fecha Transaccion'] = df_clientes['Fecha Transaccion'].str.replace('/', '-', regex=False)\n",
        "\n",
        "# Imprimir el DataFrame para verificar el cambio\n",
        "print(df_clientes)"
      ],
      "metadata": {
        "colab": {
          "base_uri": "https://localhost:8080/"
        },
        "id": "1UbDhH015rkN",
        "outputId": "55b6c9aa-68fb-4740-fd0e-ee73b96ffd19"
      },
      "execution_count": 19,
      "outputs": [
        {
          "output_type": "stream",
          "name": "stdout",
          "text": [
            "   Cliente ID Producto  Cantidad  Precio Fecha Transaccion\n",
            "0           1        A        10     100        2023-01-15\n",
            "1           2        B        20     200        2023-02-20\n",
            "2           3        C        12     300        2023-03-25\n",
            "3           4        D         5     275        2023-04-30\n",
            "4           5        E        15     500        2023-05-10\n"
          ]
        }
      ]
    },
    {
      "cell_type": "code",
      "source": [
        "# Convertir la columna 'Fecha Ingreso' a tipo datetime\n",
        "df_clientes['Fecha Transaccion'] = pd.to_datetime(df_clientes['Fecha Transaccion'], errors='coerce')\n",
        "print(df_clientes)"
      ],
      "metadata": {
        "colab": {
          "base_uri": "https://localhost:8080/"
        },
        "id": "zvLciwop6VkB",
        "outputId": "6efd1998-b0dc-4137-9881-c30f0dd881b1"
      },
      "execution_count": 20,
      "outputs": [
        {
          "output_type": "stream",
          "name": "stdout",
          "text": [
            "   Cliente ID Producto  Cantidad  Precio Fecha Transaccion\n",
            "0           1        A        10     100        2023-01-15\n",
            "1           2        B        20     200        2023-02-20\n",
            "2           3        C        12     300        2023-03-25\n",
            "3           4        D         5     275        2023-04-30\n",
            "4           5        E        15     500        2023-05-10\n"
          ]
        }
      ]
    },
    {
      "cell_type": "markdown",
      "source": [
        "**ESCENARIO** **A**"
      ],
      "metadata": {
        "id": "tNU35yggZyWU"
      }
    },
    {
      "cell_type": "code",
      "source": [
        "# Se crea mi diccionario de datos\n",
        "clientes2 = {\n",
        "          'Nombre':['Juan', 'Maria', 'Pedro', 'Ana', 'Luisa', 'Carlos', 'Juan'],\n",
        "          'Edad':[25, 30, None, 29, 28, 200, 25],\n",
        "          'E-mail' :['juan@mail.com', 'maria@mail.com', 'pedro@mail.com', 'ana@mail.com', 'luisa@mail.com','carlos@mail.com', 'juan@mail.com'],\n",
        "          'Pais':['colombia', 'Colombia', 'Mexico', 'Argentina', 'Colombia', 'Brazil', 'colombia'],\n",
        "          'Genero' :['M', 'F', 'H', 'F', 'Femenino', 'M', 'M'],\n",
        "          'Numero Visitas Tienda':[5, 7, 6, 4, 8, 2, 5],\n",
        "          }"
      ],
      "metadata": {
        "id": "NNpDTRT7Z4tz"
      },
      "execution_count": 32,
      "outputs": []
    },
    {
      "cell_type": "code",
      "source": [
        "#Defino los tipos de datos para cada columna\n",
        "tipos_datos2 = {\n",
        "     \"Nombre\": \"string\",\n",
        "     \"Edad\": \"string\", #para que me acepte None y poder realizar la limpieza\n",
        "     \"E-mail\": \"string\",\n",
        "     \"Pais\": \"string\",\n",
        "     \"Genero\": \"string\",\n",
        "     \"Numero Visitas Tienda\": \"Int64\",\n",
        "     }"
      ],
      "metadata": {
        "id": "5I0D8NIJcKKy"
      },
      "execution_count": 33,
      "outputs": []
    },
    {
      "cell_type": "code",
      "source": [
        "# Creación del dataframe llamado df2\n",
        "df2 = pd.DataFrame(clientes2)\n",
        "\n",
        "# Asignamos los tipos a mi nuevo dataframe df_pacientes\n",
        "df_clientes2 = df2.astype(tipos_datos2)"
      ],
      "metadata": {
        "id": "o54TPEFk0UXk"
      },
      "execution_count": 34,
      "outputs": []
    },
    {
      "cell_type": "code",
      "source": [
        "# Imprimo mi dataframe y sus respectivos tipos\n",
        "print(df_clientes2)\n",
        "print(\"\\n\",df_clientes2.dtypes)"
      ],
      "metadata": {
        "colab": {
          "base_uri": "https://localhost:8080/"
        },
        "id": "O3EfDxCu1VRq",
        "outputId": "c1d51230-d59f-4cba-92bf-47934db5cfa5"
      },
      "execution_count": 35,
      "outputs": [
        {
          "output_type": "stream",
          "name": "stdout",
          "text": [
            "   Nombre   Edad           E-mail       Pais    Genero  Numero Visitas Tienda\n",
            "0    Juan   25.0    juan@mail.com   colombia         M                      5\n",
            "1   Maria   30.0   maria@mail.com   Colombia         F                      7\n",
            "2   Pedro   <NA>   pedro@mail.com     Mexico         H                      6\n",
            "3     Ana   29.0     ana@mail.com  Argentina         F                      4\n",
            "4   Luisa   28.0   luisa@mail.com   Colombia  Femenino                      8\n",
            "5  Carlos  200.0  carlos@mail.com     Brazil         M                      2\n",
            "6    Juan   25.0    juan@mail.com   colombia         M                      5\n",
            "\n",
            " Nombre                   string[python]\n",
            "Edad                     string[python]\n",
            "E-mail                   string[python]\n",
            "Pais                     string[python]\n",
            "Genero                   string[python]\n",
            "Numero Visitas Tienda             Int64\n",
            "dtype: object\n"
          ]
        }
      ]
    },
    {
      "cell_type": "code",
      "source": [
        "# Contar duplicados\n",
        "duplicados = df_clientes2.duplicated().sum()\n",
        "print(f\"Duplicados en el dataset: {duplicados}\")"
      ],
      "metadata": {
        "colab": {
          "base_uri": "https://localhost:8080/"
        },
        "id": "28M5WuISmmhp",
        "outputId": "c8f37d3a-a42f-4572-e865-c410ff4577ab"
      },
      "execution_count": 36,
      "outputs": [
        {
          "output_type": "stream",
          "name": "stdout",
          "text": [
            "Duplicados en el dataset: 1\n"
          ]
        }
      ]
    },
    {
      "cell_type": "code",
      "source": [
        "#Eliminar duplicados\n",
        "df_clientes2 = df_clientes2.drop_duplicates()\n",
        "print(df_clientes2)"
      ],
      "metadata": {
        "colab": {
          "base_uri": "https://localhost:8080/"
        },
        "id": "hj54ByKMr-mG",
        "outputId": "945db573-0e0d-47fd-c67b-575ff8968b91"
      },
      "execution_count": 38,
      "outputs": [
        {
          "output_type": "stream",
          "name": "stdout",
          "text": [
            "   Nombre   Edad           E-mail       Pais    Genero  Numero Visitas Tienda\n",
            "0    Juan   25.0    juan@mail.com   colombia         M                      5\n",
            "1   Maria   30.0   maria@mail.com   Colombia         F                      7\n",
            "2   Pedro   <NA>   pedro@mail.com     Mexico         H                      6\n",
            "3     Ana   29.0     ana@mail.com  Argentina         F                      4\n",
            "4   Luisa   28.0   luisa@mail.com   Colombia  Femenino                      8\n",
            "5  Carlos  200.0  carlos@mail.com     Brazil         M                      2\n"
          ]
        }
      ]
    },
    {
      "cell_type": "code",
      "source": [
        "# Convertir la columna 'Edad' a numérica (coerce convierte errores a NaN)\n",
        "df_clientes2['Edad'] = pd.to_numeric(df_clientes2['Edad'], errors='coerce')\n",
        "\n",
        "# Eliminar valores atípicos (e.g., edades fuera del rango 0-120)\n",
        "df_clientes2.loc[(df_clientes2['Edad'] < 0) | (df_clientes2['Edad'] > 120), 'Edad'] = None\n",
        "\n",
        "# Calcular la mediana excluyendo valores atípicos\n",
        "mediana_edad = df_clientes2['Edad'].median()\n",
        "\n",
        "# Rellenar valores nulos con la mediana\n",
        "df_clientes2['Edad'].fillna(mediana_edad, inplace=True)\n",
        "\n",
        "# Redondear los valores en la columna 'Edad'\n",
        "df_clientes2['Edad'] = df_clientes2['Edad'].round().astype('Int64')  # Convertir a enteros con soporte para NaN\n",
        "\n",
        "# Mostrar el DataFrame limpio\n",
        "print(df_clientes2)"
      ],
      "metadata": {
        "colab": {
          "base_uri": "https://localhost:8080/"
        },
        "id": "sZGrRdCt2WGx",
        "outputId": "e734bcdb-1b34-48f3-f6e3-5270d05406c0"
      },
      "execution_count": 39,
      "outputs": [
        {
          "output_type": "stream",
          "name": "stdout",
          "text": [
            "   Nombre  Edad           E-mail       Pais    Genero  Numero Visitas Tienda\n",
            "0    Juan    25    juan@mail.com   colombia         M                      5\n",
            "1   Maria    30   maria@mail.com   Colombia         F                      7\n",
            "2   Pedro    28   pedro@mail.com     Mexico         H                      6\n",
            "3     Ana    29     ana@mail.com  Argentina         F                      4\n",
            "4   Luisa    28   luisa@mail.com   Colombia  Femenino                      8\n",
            "5  Carlos    28  carlos@mail.com     Brazil         M                      2\n"
          ]
        },
        {
          "output_type": "stream",
          "name": "stderr",
          "text": [
            "<ipython-input-39-540b8c6e7972>:19: FutureWarning: A value is trying to be set on a copy of a DataFrame or Series through chained assignment using an inplace method.\n",
            "The behavior will change in pandas 3.0. This inplace method will never work because the intermediate object on which we are setting values always behaves as a copy.\n",
            "\n",
            "For example, when doing 'df[col].method(value, inplace=True)', try using 'df.method({col: value}, inplace=True)' or df[col] = df[col].method(value) instead, to perform the operation inplace on the original object.\n",
            "\n",
            "\n",
            "  df_clientes2['Edad'].fillna(mediana_edad, inplace=True)\n"
          ]
        }
      ]
    },
    {
      "cell_type": "code",
      "source": [
        "# Estandarizar los valores de la columna 'Pais'\n",
        "df_clientes2['Pais'] = df_clientes2['Pais'].str.title()  # Convertir a formato Title Case\n",
        "\n",
        "# Corregir \"Brazil\" por \"Brasil\"\n",
        "df_clientes2['Pais'] = df_clientes2['Pais'].replace(\"Brazil\", \"Brasil\")\n",
        "\n",
        "print(df_clientes2)"
      ],
      "metadata": {
        "colab": {
          "base_uri": "https://localhost:8080/"
        },
        "id": "5WdpySqN4WPW",
        "outputId": "c074bd5f-5548-42c9-d550-772d470ed189"
      },
      "execution_count": 41,
      "outputs": [
        {
          "output_type": "stream",
          "name": "stdout",
          "text": [
            "   Nombre  Edad           E-mail       Pais    Genero  Numero Visitas Tienda\n",
            "0    Juan    25    juan@mail.com   Colombia         M                      5\n",
            "1   Maria    30   maria@mail.com   Colombia         F                      7\n",
            "2   Pedro    28   pedro@mail.com     Mexico         H                      6\n",
            "3     Ana    29     ana@mail.com  Argentina         F                      4\n",
            "4   Luisa    28   luisa@mail.com   Colombia  Femenino                      8\n",
            "5  Carlos    28  carlos@mail.com     Brasil         M                      2\n"
          ]
        }
      ]
    },
    {
      "cell_type": "code",
      "source": [
        "# Estandarizar la columna Genero (convertir a formato uniforme)\n",
        "df_clientes2['Genero'] = df_clientes2['Genero'].replace({\n",
        "    'M': 'Masculino',\n",
        "    'H': 'Masculino',\n",
        "    'F': 'Femenino',\n",
        "    'Femenino': 'Femenino'\n",
        "})\n",
        "\n",
        "# Mostrar el DataFrame resultante\n",
        "print(df_clientes2)"
      ],
      "metadata": {
        "colab": {
          "base_uri": "https://localhost:8080/"
        },
        "id": "ROmrM0oa4eRl",
        "outputId": "bcfd6720-f2f9-487b-fce3-984831b5fe7f"
      },
      "execution_count": 42,
      "outputs": [
        {
          "output_type": "stream",
          "name": "stdout",
          "text": [
            "   Nombre  Edad           E-mail       Pais     Genero  Numero Visitas Tienda\n",
            "0    Juan    25    juan@mail.com   Colombia  Masculino                      5\n",
            "1   Maria    30   maria@mail.com   Colombia   Femenino                      7\n",
            "2   Pedro    28   pedro@mail.com     Mexico  Masculino                      6\n",
            "3     Ana    29     ana@mail.com  Argentina   Femenino                      4\n",
            "4   Luisa    28   luisa@mail.com   Colombia   Femenino                      8\n",
            "5  Carlos    28  carlos@mail.com     Brasil  Masculino                      2\n"
          ]
        }
      ]
    }
  ]
}